{
 "cells": [
  {
   "cell_type": "markdown",
   "metadata": {},
   "source": [
    "### Implementimi i Scrypt për mbrojtjen e fjalëkalimeve në Python\n",
    "\n",
    "#### Konfigurimi dhe instalimi i librarive"
   ]
  },
  {
   "cell_type": "code",
   "execution_count": 5,
   "metadata": {},
   "outputs": [],
   "source": [
    "#pip install hashlib "
   ]
  },
  {
   "cell_type": "markdown",
   "metadata": {},
   "source": [
    "#### Importimi i librarive"
   ]
  },
  {
   "cell_type": "code",
   "execution_count": 6,
   "metadata": {},
   "outputs": [],
   "source": [
    "import os\n",
    "import hashlib\n",
    "import json"
   ]
  },
  {
   "cell_type": "markdown",
   "metadata": {},
   "source": [
    "#### Funksioni per krijimin e hash te fjalekalimit"
   ]
  },
  {
   "cell_type": "code",
   "execution_count": 7,
   "metadata": {},
   "outputs": [],
   "source": [
    "def krijo_hash_fjalekalimi(fjalekalimi):\n",
    "    \"\"\"\n",
    "    Krijon një hash të fjalëkalimit duke përdorur hashlib.scrypt dhe kthen salt dhe hash.\n",
    "    \"\"\"\n",
    "    salt = os.urandom(16)  # Gjenerojmë një salt të rastësishëm\n",
    "    hash_fjalekalimi = hashlib.scrypt(\n",
    "        fjalekalimi.encode('utf-8'),\n",
    "        salt=salt,\n",
    "        n=2**14,\n",
    "        r=8,\n",
    "        p=1,\n",
    "        dklen=64\n",
    "    )\n",
    "    return salt, hash_fjalekalimi"
   ]
  },
  {
   "cell_type": "markdown",
   "metadata": {},
   "source": [
    "#### Funksioni për të ruajtur përdoruesin në një fajll JSON"
   ]
  },
  {
   "cell_type": "code",
   "execution_count": null,
   "metadata": {},
   "outputs": [],
   "source": [
    "def ruaj_perdorues_ne_json(username, salt, hash_fjalekalimi, filename='perdorues.json'):\n",
    "    \"\"\"\n",
    "    Ruaj username, salt dhe hash të fjalëkalimit për përdoruesin në një skedar JSON.\n",
    "    \"\"\"\n",
    "    # Lexojmë të dhënat ekzistuese ose krijojmë një strukturë të re nëse skedari nuk ekziston\n",
    "    try:\n",
    "        with open(filename, 'r') as file:\n",
    "            data = json.load(file)\n",
    "    except FileNotFoundError:\n",
    "        data = {}\n",
    "\n",
    "    # Shtojmë të dhënat e përdoruesit të ri në strukturën e të dhënave\n",
    "    data[username] = {\n",
    "        'salt': salt.hex(),\n",
    "        'hash_fjalekalimi': hash_fjalekalimi.hex()\n",
    "    }\n",
    "\n",
    "    # Ruajmë të dhënat e përditësuara në skedar\n",
    "    with open(filename, 'w') as file:\n",
    "        json.dump(data, file)\n",
    "    print(f\"Fjalëkalimi për përdoruesin '{username}' është ruajtur me sukses në fajllin JSON.\")"
   ]
  },
  {
   "cell_type": "markdown",
   "metadata": {},
   "source": [
    "#### Input-i për përdorues dhe fjalëkalim"
   ]
  },
  {
   "cell_type": "code",
   "execution_count": 9,
   "metadata": {},
   "outputs": [
    {
     "name": "stdout",
     "output_type": "stream",
     "text": [
      "Fjalëkalimi për përdoruesin 'BENI' është ruajtur me sukses në skedarin JSON.\n"
     ]
    }
   ],
   "source": [
    "username = input(\"Shkruani username-in për ruajtje: \")\n",
    "fjalekalimi = input(\"Shkruani fjalëkalimin për ruajtje: \")\n",
    "salt, hash_fjalekalimi = krijo_hash_fjalekalimi(fjalekalimi)\n",
    "ruaj_perdorues_ne_json(username, salt, hash_fjalekalimi)"
   ]
  }
 ],
 "metadata": {
  "kernelspec": {
   "display_name": "Python 3",
   "language": "python",
   "name": "python3"
  },
  "language_info": {
   "codemirror_mode": {
    "name": "ipython",
    "version": 3
   },
   "file_extension": ".py",
   "mimetype": "text/x-python",
   "name": "python",
   "nbconvert_exporter": "python",
   "pygments_lexer": "ipython3",
   "version": "3.13.0"
  }
 },
 "nbformat": 4,
 "nbformat_minor": 2
}
