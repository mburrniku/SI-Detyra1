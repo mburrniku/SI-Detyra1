{
 "cells": [
  {
   "cell_type": "markdown",
   "metadata": {},
   "source": [
    "### Implementimi i Scrypt për mbrojtjen e fjalëkalimeve në Python\n",
    "\n",
    "#### Konfigurimi dhe instalimi i librarive"
   ]
  },
  {
   "cell_type": "code",
   "execution_count": null,
   "metadata": {},
   "outputs": [],
   "source": [
    "#pip install hashlib "
   ]
  },
  {
   "cell_type": "markdown",
   "metadata": {},
   "source": [
    "#### Importimi i librarive"
   ]
  },
  {
   "cell_type": "code",
   "execution_count": 1,
   "metadata": {},
   "outputs": [],
   "source": [
    "import os\n",
    "import hashlib\n",
    "import json"
   ]
  },
  {
   "cell_type": "markdown",
   "metadata": {},
   "source": [
    "#### Funksioni per krijimin e hash te fjalekalimit"
   ]
  },
  {
   "cell_type": "code",
   "execution_count": 2,
   "metadata": {},
   "outputs": [],
   "source": [
    "def krijo_hash_fjalekalimi(fjalekalimi):\n",
    "    \"\"\"\n",
    "    Krijon një hash të fjalëkalimit duke përdorur hashlib.scrypt dhe kthen salt dhe hash.\n",
    "    \"\"\"\n",
    "    salt = os.urandom(16)  # Gjenerojmë një salt të rastësishëm\n",
    "    hash_fjalekalimi = hashlib.scrypt(\n",
    "        fjalekalimi.encode('utf-8'),\n",
    "        salt=salt,\n",
    "        n=2**14,\n",
    "        r=8,\n",
    "        p=1,\n",
    "        dklen=64\n",
    "    )\n",
    "    return salt, hash_fjalekalimi"
   ]
  }
 ],
 "metadata": {
  "kernelspec": {
   "display_name": "Python 3",
   "language": "python",
   "name": "python3"
  },
  "language_info": {
   "codemirror_mode": {
    "name": "ipython",
    "version": 3
   },
   "file_extension": ".py",
   "mimetype": "text/x-python",
   "name": "python",
   "nbconvert_exporter": "python",
   "pygments_lexer": "ipython3",
   "version": "3.13.0"
  }
 },
 "nbformat": 4,
 "nbformat_minor": 2
}
